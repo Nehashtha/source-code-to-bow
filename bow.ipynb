{
  "nbformat": 4,
  "nbformat_minor": 0,
  "metadata": {
    "colab": {
      "name": "bow.ipynb",
      "provenance": [],
      "authorship_tag": "ABX9TyO5Rg1PnQR9GWFp6cvv4qwK"
    },
    "kernelspec": {
      "name": "python3",
      "display_name": "Python 3"
    }
  },
  "cells": [
    {
      "cell_type": "code",
      "metadata": {
        "colab_type": "code",
        "id": "ine0ftk1wMZA",
        "colab": {}
      },
      "source": [
        "import pandas as pd\n",
        "\n",
        "data = pd.read_csv('/Data/Ankidroid_bow_features.csv', dtype={'is_vulnerable': bool})\n",
        "data['is_vulnerable'] = data['is_vulnerable'].map({False: 0, True: 1})\n"
      ],
      "execution_count": 0,
      "outputs": []
    },
    {
      "cell_type": "code",
      "metadata": {
        "id": "7UKMSBJFv9t7",
        "colab_type": "code",
        "colab": {}
      },
      "source": [
        "x = data.loc[:, data.columns != 'is_vulnerable']\n",
        "y = data['is_vulnerable']\n",
        "SEQUENCE_LENGTH = x.shape[1]"
      ],
      "execution_count": 0,
      "outputs": []
    },
    {
      "cell_type": "code",
      "metadata": {
        "id": "L7aIqz5EWvlY",
        "colab_type": "code",
        "colab": {}
      },
      "source": [
        "from sklearn.model_selection import train_test_split\n",
        "TEST_SPLIT = 0.2\n",
        "x_train, x_test, y_train, y_test = train_test_split(x, y, test_size=TEST_SPLIT, random_state=42)"
      ],
      "execution_count": 0,
      "outputs": []
    },
    {
      "cell_type": "code",
      "metadata": {
        "id": "uexvjI5Sw3gO",
        "colab_type": "code",
        "colab": {}
      },
      "source": [
        "import numpy as np\n",
        "import sklearn\n",
        "import matplotlib.pyplot as plt\n",
        "import tensorflow as tf"
      ],
      "execution_count": 0,
      "outputs": []
    },
    {
      "cell_type": "markdown",
      "metadata": {
        "id": "AzgcV6RCF1o8",
        "colab_type": "text"
      },
      "source": [
        "# Random Forest"
      ]
    },
    {
      "cell_type": "code",
      "metadata": {
        "id": "hpdwj4VCd5Vl",
        "colab_type": "code",
        "outputId": "841a4748-8f46-41db-a3eb-db2fb4a2f3fc",
        "colab": {
          "base_uri": "https://localhost:8080/",
          "height": 158
        }
      },
      "source": [
        "from sklearn.ensemble import RandomForestClassifier\n",
        "\n",
        "# Random forest\n",
        "random_forest_classifier = RandomForestClassifier(n_estimators=1000, random_state=42)\n",
        "random_forest_classifier.fit(x_train, y_train)"
      ],
      "execution_count": 72,
      "outputs": [
        {
          "output_type": "execute_result",
          "data": {
            "text/plain": [
              "RandomForestClassifier(bootstrap=True, ccp_alpha=0.0, class_weight=None,\n",
              "                       criterion='gini', max_depth=None, max_features='auto',\n",
              "                       max_leaf_nodes=None, max_samples=None,\n",
              "                       min_impurity_decrease=0.0, min_impurity_split=None,\n",
              "                       min_samples_leaf=1, min_samples_split=2,\n",
              "                       min_weight_fraction_leaf=0.0, n_estimators=1000,\n",
              "                       n_jobs=None, oob_score=False, random_state=42, verbose=0,\n",
              "                       warm_start=False)"
            ]
          },
          "metadata": {
            "tags": []
          },
          "execution_count": 72
        }
      ]
    },
    {
      "cell_type": "code",
      "metadata": {
        "id": "0PU6rnmSd5N5",
        "colab_type": "code",
        "outputId": "329a8e7d-d4ad-4c94-c20f-ca821d575318",
        "colab": {
          "base_uri": "https://localhost:8080/",
          "height": 318
        }
      },
      "source": [
        "print(\"TRAIN\")\n",
        "\n",
        "predicted_rf = random_forest_classifier.predict(x_train)\n",
        "predicted_prob_rf = random_forest_classifier.predict_proba(x_train)\n",
        "\n",
        "confusion = sklearn.metrics.confusion_matrix(y_true=y_train, y_pred=predicted_rf)\n",
        "print(confusion)\n",
        "tn, fp, fn, tp = confusion.ravel()\n",
        "print('\\nTP:',tp)\n",
        "print('FP:',fp)\n",
        "print('TN:',tn)\n",
        "print('FN:',fn)\n",
        "\n",
        "## Performance measure\n",
        "print('\\nAccuracy: '+ str(sklearn.metrics.accuracy_score(y_true=y_train, y_pred=predicted_rf)))\n",
        "print('Precision: '+ str(sklearn.metrics.precision_score(y_true=y_train, y_pred=predicted_rf)))\n",
        "print('Recall: '+ str(sklearn.metrics.recall_score(y_true=y_train, y_pred=predicted_rf)))\n",
        "print('F-measure: '+ str(sklearn.metrics.f1_score(y_true=y_train, y_pred=predicted_rf)))\n",
        "print(\"False Positive Rate:\" + str(fp/(tn+fp)))\n",
        "print('AUC: '+ str(sklearn.metrics.roc_auc_score(y_true=y_train, y_score=np.argmax(predicted_prob_rf,axis = 1))))\n",
        "print('Precision-Recall AUC: '+ str(sklearn.metrics.average_precision_score(y_true=y_train, y_score=np.argmax(predicted_prob_rf,axis = 1))))\n",
        "print('MCC: '+ str(sklearn.metrics.matthews_corrcoef(y_true=y_train, y_pred=predicted_rf)))"
      ],
      "execution_count": 73,
      "outputs": [
        {
          "output_type": "stream",
          "text": [
            "TRAIN\n",
            "[[ 86   1]\n",
            " [  1 135]]\n",
            "\n",
            "TP: 135\n",
            "FP: 1\n",
            "TN: 86\n",
            "FN: 1\n",
            "\n",
            "Accuracy: 0.9910313901345291\n",
            "Precision: 0.9926470588235294\n",
            "Recall: 0.9926470588235294\n",
            "F-measure: 0.9926470588235294\n",
            "False Positive Rate:0.011494252873563218\n",
            "AUC: 0.9905764029749831\n",
            "Precision-Recall AUC: 0.9898324883237389\n",
            "MCC: 0.9811528059499662\n"
          ],
          "name": "stdout"
        }
      ]
    },
    {
      "cell_type": "code",
      "metadata": {
        "id": "1GMe-FMPpDsR",
        "colab_type": "code",
        "outputId": "c2688b88-91dd-46f5-f422-4afa0bca3fe5",
        "colab": {
          "base_uri": "https://localhost:8080/",
          "height": 318
        }
      },
      "source": [
        "print(\"TEST\")\n",
        "\n",
        "\n",
        "predicted_rf = random_forest_classifier.predict(x_test)\n",
        "predicted_prob_rf = random_forest_classifier.predict_proba(x_test)\n",
        "\n",
        "confusion = sklearn.metrics.confusion_matrix(y_true=y_test, y_pred=predicted_rf)\n",
        "print(confusion)\n",
        "tn, fp, fn, tp = confusion.ravel()\n",
        "print('\\nTP:',tp)\n",
        "print('FP:',fp)\n",
        "print('TN:',tn)\n",
        "print('FN:',fn)\n",
        "\n",
        "## Performance measure\n",
        "print('\\nAccuracy: '+ str(sklearn.metrics.accuracy_score(y_true=y_test, y_pred=predicted_rf)))\n",
        "print('Precision: '+ str(sklearn.metrics.precision_score(y_true=y_test, y_pred=predicted_rf)))\n",
        "print('Recall: '+ str(sklearn.metrics.recall_score(y_true=y_test, y_pred=predicted_rf)))\n",
        "print('F-measure: '+ str(sklearn.metrics.f1_score(y_true=y_test, y_pred=predicted_rf)))\n",
        "print(\"False Positive Rate:\" + str(fp/(tn+fp)))\n",
        "print('AUC: '+ str(sklearn.metrics.roc_auc_score(y_true=y_test, y_score=np.argmax(predicted_prob_rf,axis = 1))))\n",
        "print('Precision-Recall AUC: '+ str(sklearn.metrics.average_precision_score(y_true=y_test, y_score=np.argmax(predicted_prob_rf,axis = 1))))\n",
        "print('MCC: '+ str(sklearn.metrics.matthews_corrcoef(y_true=y_test, y_pred=predicted_rf)))"
      ],
      "execution_count": 74,
      "outputs": [
        {
          "output_type": "stream",
          "text": [
            "TEST\n",
            "[[23  3]\n",
            " [ 2 28]]\n",
            "\n",
            "TP: 28\n",
            "FP: 3\n",
            "TN: 23\n",
            "FN: 2\n",
            "\n",
            "Accuracy: 0.9107142857142857\n",
            "Precision: 0.9032258064516129\n",
            "Recall: 0.9333333333333333\n",
            "F-measure: 0.9180327868852459\n",
            "False Positive Rate:0.11538461538461539\n",
            "AUC: 0.908974358974359\n",
            "Precision-Recall AUC: 0.8787250384024577\n",
            "MCC: 0.8205830201566422\n"
          ],
          "name": "stdout"
        }
      ]
    },
    {
      "cell_type": "markdown",
      "metadata": {
        "id": "8Ld9Mkr-F5O8",
        "colab_type": "text"
      },
      "source": [
        "#Resnet"
      ]
    },
    {
      "cell_type": "code",
      "metadata": {
        "id": "sRWlb3xXZfYD",
        "colab_type": "code",
        "colab": {}
      },
      "source": [
        "def bn_relu(layer, dropout=0, **params):\n",
        "    layer = tf.keras.layers.BatchNormalization()(layer)\n",
        "    layer = tf.keras.layers.Activation(params['conv_activation'])(layer)\n",
        "\n",
        "    if dropout > 0:\n",
        "        layer = tf.keras.layers.Dropout(dropout)(layer)\n",
        "    return layer"
      ],
      "execution_count": 0,
      "outputs": []
    },
    {
      "cell_type": "code",
      "metadata": {
        "id": "VQMTOgndZhdQ",
        "colab_type": "code",
        "colab": {}
      },
      "source": [
        "def resnet_block(layer, filters, kernels, dropout, activation,\n",
        "                 cross_block=False, is_first=False, is_last=False, shrink=False):\n",
        "  # -BN-Act-Conv-BN-Act-Conv--\n",
        "  # ↳-----------------------↑\n",
        "  strides = 1\n",
        "  if shrink:\n",
        "    strides = 2\n",
        "  if cross_block:\n",
        "    shortcut = tf.keras.layers.Conv1D(filters=filters,\n",
        "                      kernel_size=strides,\n",
        "                      kernel_initializer='random_uniform',\n",
        "                      # kernel_regularizer=regularizers.l2(0.01),\n",
        "                      strides=strides,\n",
        "                      padding='same')(layer)\n",
        "  else:\n",
        "    shortcut = layer\n",
        "\n",
        "  if not is_first:\n",
        "    layer = bn_relu(layer, dropout=dropout, conv_activation=activation)\n",
        "\n",
        "  layer = tf.keras.layers.Conv1D(filters=filters,\n",
        "                 kernel_size=kernels,\n",
        "                 kernel_initializer='random_uniform',\n",
        "                 # kernel_regularizer=regularizers.l2(0.01),\n",
        "                 strides=strides,\n",
        "                 padding='same')(layer)\n",
        "  layer = bn_relu(layer, dropout=dropout, conv_activation=activation)\n",
        "  layer = tf.keras.layers.Conv1D(filters=filters,\n",
        "                 kernel_size=kernels,\n",
        "                 kernel_initializer='random_uniform',\n",
        "                 # kernel_regularizer=regularizers.l2(0.01),\n",
        "                 strides=1,\n",
        "                 padding='same')(layer)\n",
        "  layer = tf.keras.layers.add([shortcut, layer])\n",
        "\n",
        "  if is_last:\n",
        "    layer = bn_relu(layer, dropout=dropout, conv_activation=activation)\n",
        "\n",
        "  return layer"
      ],
      "execution_count": 0,
      "outputs": []
    },
    {
      "cell_type": "code",
      "metadata": {
        "id": "uNk-GuzUYml7",
        "colab_type": "code",
        "outputId": "ddac8df7-1b76-47ba-d9a6-88f20127d616",
        "colab": {
          "base_uri": "https://localhost:8080/",
          "height": 1000
        }
      },
      "source": [
        "'''create model'''\n",
        "\n",
        "OUTPUT_SHAPE = 2\n",
        "input = tf.keras.layers.Input(shape=(1,SEQUENCE_LENGTH))\n",
        "\n",
        "layer = tf.keras.layers.Conv1D(filters=32,\n",
        "               kernel_size=3,\n",
        "               kernel_initializer='random_uniform',\n",
        "               # kernel_regularizer=regularizers.l2(0.01),\n",
        "               strides=1,\n",
        "               padding='same')(input)\n",
        "\n",
        "\n",
        "layer = resnet_block(layer=layer, filters=32, kernels=3, dropout=0, activation='relu')\n",
        "\n",
        "layer = resnet_block(layer, 64, 3, 0, 'relu', cross_block=True, shrink=True)\n",
        "layer = resnet_block(layer, 64, 3, 0, 'relu')\n",
        "\n",
        "layer = resnet_block(layer, 128, 3, 0, 'relu', cross_block=True, shrink=True)\n",
        "layer = resnet_block(layer, 128, 3, 0, 'relu')\n",
        "\n",
        "layer = resnet_block(layer, 256, 3, 0, 'relu', cross_block=True, shrink=True)\n",
        "layer = resnet_block(layer, 256, 3, 0, 'relu')\n",
        "layer = tf.keras.layers.Flatten()(layer)\n",
        "output = tf.keras.layers.Dense(units=OUTPUT_SHAPE, activation='softmax')(layer)\n",
        "\n",
        "model = tf.keras.Model(inputs=[input], outputs=[output])\n",
        "\n",
        "optimizer = tf.keras.optimizers.Adam(lr=0.005)\n",
        "model.summary()\n",
        "model.compile(loss='categorical_crossentropy',\n",
        "              optimizer=optimizer,\n",
        "              metrics=['accuracy'])\n",
        "monitor = tf.keras.callbacks.EarlyStopping(monitor='val_acc', min_delta=1e-3, patience=25, mode='auto', restore_best_weights=True)"
      ],
      "execution_count": 77,
      "outputs": [
        {
          "output_type": "stream",
          "text": [
            "Model: \"model_1\"\n",
            "__________________________________________________________________________________________________\n",
            "Layer (type)                    Output Shape         Param #     Connected to                     \n",
            "==================================================================================================\n",
            "input_2 (InputLayer)            [(None, 1, 500)]     0                                            \n",
            "__________________________________________________________________________________________________\n",
            "conv1d_18 (Conv1D)              (None, 1, 32)        48032       input_2[0][0]                    \n",
            "__________________________________________________________________________________________________\n",
            "batch_normalization_14 (BatchNo (None, 1, 32)        128         conv1d_18[0][0]                  \n",
            "__________________________________________________________________________________________________\n",
            "activation_14 (Activation)      (None, 1, 32)        0           batch_normalization_14[0][0]     \n",
            "__________________________________________________________________________________________________\n",
            "conv1d_19 (Conv1D)              (None, 1, 32)        3104        activation_14[0][0]              \n",
            "__________________________________________________________________________________________________\n",
            "batch_normalization_15 (BatchNo (None, 1, 32)        128         conv1d_19[0][0]                  \n",
            "__________________________________________________________________________________________________\n",
            "activation_15 (Activation)      (None, 1, 32)        0           batch_normalization_15[0][0]     \n",
            "__________________________________________________________________________________________________\n",
            "conv1d_20 (Conv1D)              (None, 1, 32)        3104        activation_15[0][0]              \n",
            "__________________________________________________________________________________________________\n",
            "add_7 (Add)                     (None, 1, 32)        0           conv1d_18[0][0]                  \n",
            "                                                                 conv1d_20[0][0]                  \n",
            "__________________________________________________________________________________________________\n",
            "batch_normalization_16 (BatchNo (None, 1, 32)        128         add_7[0][0]                      \n",
            "__________________________________________________________________________________________________\n",
            "activation_16 (Activation)      (None, 1, 32)        0           batch_normalization_16[0][0]     \n",
            "__________________________________________________________________________________________________\n",
            "conv1d_22 (Conv1D)              (None, 1, 64)        6208        activation_16[0][0]              \n",
            "__________________________________________________________________________________________________\n",
            "batch_normalization_17 (BatchNo (None, 1, 64)        256         conv1d_22[0][0]                  \n",
            "__________________________________________________________________________________________________\n",
            "activation_17 (Activation)      (None, 1, 64)        0           batch_normalization_17[0][0]     \n",
            "__________________________________________________________________________________________________\n",
            "conv1d_21 (Conv1D)              (None, 1, 64)        4160        add_7[0][0]                      \n",
            "__________________________________________________________________________________________________\n",
            "conv1d_23 (Conv1D)              (None, 1, 64)        12352       activation_17[0][0]              \n",
            "__________________________________________________________________________________________________\n",
            "add_8 (Add)                     (None, 1, 64)        0           conv1d_21[0][0]                  \n",
            "                                                                 conv1d_23[0][0]                  \n",
            "__________________________________________________________________________________________________\n",
            "batch_normalization_18 (BatchNo (None, 1, 64)        256         add_8[0][0]                      \n",
            "__________________________________________________________________________________________________\n",
            "activation_18 (Activation)      (None, 1, 64)        0           batch_normalization_18[0][0]     \n",
            "__________________________________________________________________________________________________\n",
            "conv1d_24 (Conv1D)              (None, 1, 64)        12352       activation_18[0][0]              \n",
            "__________________________________________________________________________________________________\n",
            "batch_normalization_19 (BatchNo (None, 1, 64)        256         conv1d_24[0][0]                  \n",
            "__________________________________________________________________________________________________\n",
            "activation_19 (Activation)      (None, 1, 64)        0           batch_normalization_19[0][0]     \n",
            "__________________________________________________________________________________________________\n",
            "conv1d_25 (Conv1D)              (None, 1, 64)        12352       activation_19[0][0]              \n",
            "__________________________________________________________________________________________________\n",
            "add_9 (Add)                     (None, 1, 64)        0           add_8[0][0]                      \n",
            "                                                                 conv1d_25[0][0]                  \n",
            "__________________________________________________________________________________________________\n",
            "batch_normalization_20 (BatchNo (None, 1, 64)        256         add_9[0][0]                      \n",
            "__________________________________________________________________________________________________\n",
            "activation_20 (Activation)      (None, 1, 64)        0           batch_normalization_20[0][0]     \n",
            "__________________________________________________________________________________________________\n",
            "conv1d_27 (Conv1D)              (None, 1, 128)       24704       activation_20[0][0]              \n",
            "__________________________________________________________________________________________________\n",
            "batch_normalization_21 (BatchNo (None, 1, 128)       512         conv1d_27[0][0]                  \n",
            "__________________________________________________________________________________________________\n",
            "activation_21 (Activation)      (None, 1, 128)       0           batch_normalization_21[0][0]     \n",
            "__________________________________________________________________________________________________\n",
            "conv1d_26 (Conv1D)              (None, 1, 128)       16512       add_9[0][0]                      \n",
            "__________________________________________________________________________________________________\n",
            "conv1d_28 (Conv1D)              (None, 1, 128)       49280       activation_21[0][0]              \n",
            "__________________________________________________________________________________________________\n",
            "add_10 (Add)                    (None, 1, 128)       0           conv1d_26[0][0]                  \n",
            "                                                                 conv1d_28[0][0]                  \n",
            "__________________________________________________________________________________________________\n",
            "batch_normalization_22 (BatchNo (None, 1, 128)       512         add_10[0][0]                     \n",
            "__________________________________________________________________________________________________\n",
            "activation_22 (Activation)      (None, 1, 128)       0           batch_normalization_22[0][0]     \n",
            "__________________________________________________________________________________________________\n",
            "conv1d_29 (Conv1D)              (None, 1, 128)       49280       activation_22[0][0]              \n",
            "__________________________________________________________________________________________________\n",
            "batch_normalization_23 (BatchNo (None, 1, 128)       512         conv1d_29[0][0]                  \n",
            "__________________________________________________________________________________________________\n",
            "activation_23 (Activation)      (None, 1, 128)       0           batch_normalization_23[0][0]     \n",
            "__________________________________________________________________________________________________\n",
            "conv1d_30 (Conv1D)              (None, 1, 128)       49280       activation_23[0][0]              \n",
            "__________________________________________________________________________________________________\n",
            "add_11 (Add)                    (None, 1, 128)       0           add_10[0][0]                     \n",
            "                                                                 conv1d_30[0][0]                  \n",
            "__________________________________________________________________________________________________\n",
            "batch_normalization_24 (BatchNo (None, 1, 128)       512         add_11[0][0]                     \n",
            "__________________________________________________________________________________________________\n",
            "activation_24 (Activation)      (None, 1, 128)       0           batch_normalization_24[0][0]     \n",
            "__________________________________________________________________________________________________\n",
            "conv1d_32 (Conv1D)              (None, 1, 256)       98560       activation_24[0][0]              \n",
            "__________________________________________________________________________________________________\n",
            "batch_normalization_25 (BatchNo (None, 1, 256)       1024        conv1d_32[0][0]                  \n",
            "__________________________________________________________________________________________________\n",
            "activation_25 (Activation)      (None, 1, 256)       0           batch_normalization_25[0][0]     \n",
            "__________________________________________________________________________________________________\n",
            "conv1d_31 (Conv1D)              (None, 1, 256)       65792       add_11[0][0]                     \n",
            "__________________________________________________________________________________________________\n",
            "conv1d_33 (Conv1D)              (None, 1, 256)       196864      activation_25[0][0]              \n",
            "__________________________________________________________________________________________________\n",
            "add_12 (Add)                    (None, 1, 256)       0           conv1d_31[0][0]                  \n",
            "                                                                 conv1d_33[0][0]                  \n",
            "__________________________________________________________________________________________________\n",
            "batch_normalization_26 (BatchNo (None, 1, 256)       1024        add_12[0][0]                     \n",
            "__________________________________________________________________________________________________\n",
            "activation_26 (Activation)      (None, 1, 256)       0           batch_normalization_26[0][0]     \n",
            "__________________________________________________________________________________________________\n",
            "conv1d_34 (Conv1D)              (None, 1, 256)       196864      activation_26[0][0]              \n",
            "__________________________________________________________________________________________________\n",
            "batch_normalization_27 (BatchNo (None, 1, 256)       1024        conv1d_34[0][0]                  \n",
            "__________________________________________________________________________________________________\n",
            "activation_27 (Activation)      (None, 1, 256)       0           batch_normalization_27[0][0]     \n",
            "__________________________________________________________________________________________________\n",
            "conv1d_35 (Conv1D)              (None, 1, 256)       196864      activation_27[0][0]              \n",
            "__________________________________________________________________________________________________\n",
            "add_13 (Add)                    (None, 1, 256)       0           add_12[0][0]                     \n",
            "                                                                 conv1d_35[0][0]                  \n",
            "__________________________________________________________________________________________________\n",
            "flatten_1 (Flatten)             (None, 256)          0           add_13[0][0]                     \n",
            "__________________________________________________________________________________________________\n",
            "dense_1 (Dense)                 (None, 2)            514         flatten_1[0][0]                  \n",
            "==================================================================================================\n",
            "Total params: 1,052,706\n",
            "Trainable params: 1,049,442\n",
            "Non-trainable params: 3,264\n",
            "__________________________________________________________________________________________________\n"
          ],
          "name": "stdout"
        }
      ]
    },
    {
      "cell_type": "code",
      "metadata": {
        "id": "c0IaTwTrOuJh",
        "colab_type": "code",
        "colab": {}
      },
      "source": [
        "BATCH_SIZE = 150\n",
        "EPOCHS = 100\n",
        "VALIDATION_SPLIT = 0.1"
      ],
      "execution_count": 0,
      "outputs": []
    },
    {
      "cell_type": "code",
      "metadata": {
        "id": "9fXy69JAxT7O",
        "colab_type": "code",
        "colab": {
          "base_uri": "https://localhost:8080/",
          "height": 230
        },
        "outputId": "0f693452-26fa-4c84-cc7e-8b0f2aa8023c"
      },
      "source": [
        "y_train"
      ],
      "execution_count": 79,
      "outputs": [
        {
          "output_type": "execute_result",
          "data": {
            "text/plain": [
              "261    0\n",
              "124    1\n",
              "33     0\n",
              "86     0\n",
              "265    0\n",
              "      ..\n",
              "188    0\n",
              "71     1\n",
              "106    1\n",
              "270    1\n",
              "102    1\n",
              "Name: is_vulnerable, Length: 223, dtype: int64"
            ]
          },
          "metadata": {
            "tags": []
          },
          "execution_count": 79
        }
      ]
    },
    {
      "cell_type": "code",
      "metadata": {
        "id": "BdK_0URfOw5g",
        "colab_type": "code",
        "colab": {}
      },
      "source": [
        "x_train_reshaped = np.array(x_train).reshape(-1, 1, SEQUENCE_LENGTH) \n",
        "y_train_reshaped = np.eye(2)[y_train]\n",
        "\n",
        "x_test_reshaped =  np.array(x_test).reshape(-1, 1, SEQUENCE_LENGTH) \n",
        "y_test_reshaped = np.eye(2)[y_test]"
      ],
      "execution_count": 0,
      "outputs": []
    },
    {
      "cell_type": "code",
      "metadata": {
        "id": "GZxFe7RJsVwm",
        "colab_type": "code",
        "outputId": "ddbe5292-3fb6-4b28-bea0-45bbe9ec9870",
        "colab": {
          "base_uri": "https://localhost:8080/",
          "height": 1000
        }
      },
      "source": [
        "model.fit(x_train_reshaped,\n",
        "          y_train_reshaped,\n",
        "          batch_size=BATCH_SIZE,\n",
        "          epochs=EPOCHS,\n",
        "          validation_split=VALIDATION_SPLIT,\n",
        "          callbacks=[monitor])"
      ],
      "execution_count": 82,
      "outputs": [
        {
          "output_type": "stream",
          "text": [
            "Train on 200 samples, validate on 23 samples\n",
            "Epoch 1/100\n",
            "200/200 [==============================] - 2s 12ms/sample - loss: 2.2944 - acc: 0.5950 - val_loss: 0.6513 - val_acc: 0.7391\n",
            "Epoch 2/100\n",
            "200/200 [==============================] - 0s 2ms/sample - loss: 0.7430 - acc: 0.6150 - val_loss: 0.7290 - val_acc: 0.3478\n",
            "Epoch 3/100\n",
            "200/200 [==============================] - 0s 2ms/sample - loss: 0.8676 - acc: 0.5950 - val_loss: 0.5796 - val_acc: 0.7391\n",
            "Epoch 4/100\n",
            "200/200 [==============================] - 0s 2ms/sample - loss: 0.5754 - acc: 0.5950 - val_loss: 0.5318 - val_acc: 0.7391\n",
            "Epoch 5/100\n",
            "200/200 [==============================] - 0s 2ms/sample - loss: 0.5288 - acc: 0.6500 - val_loss: 0.5622 - val_acc: 0.7391\n",
            "Epoch 6/100\n",
            "200/200 [==============================] - 0s 2ms/sample - loss: 0.3851 - acc: 0.8350 - val_loss: 0.6011 - val_acc: 0.7826\n",
            "Epoch 7/100\n",
            "200/200 [==============================] - 0s 2ms/sample - loss: 0.4074 - acc: 0.8400 - val_loss: 0.6087 - val_acc: 0.6522\n",
            "Epoch 8/100\n",
            "200/200 [==============================] - 0s 2ms/sample - loss: 0.3225 - acc: 0.8450 - val_loss: 0.5963 - val_acc: 0.8696\n",
            "Epoch 9/100\n",
            "200/200 [==============================] - 0s 2ms/sample - loss: 0.3075 - acc: 0.8500 - val_loss: 0.5802 - val_acc: 0.7391\n",
            "Epoch 10/100\n",
            "200/200 [==============================] - 0s 2ms/sample - loss: 0.2520 - acc: 0.9000 - val_loss: 0.5699 - val_acc: 0.7391\n",
            "Epoch 11/100\n",
            "200/200 [==============================] - 0s 2ms/sample - loss: 0.2079 - acc: 0.9150 - val_loss: 0.5617 - val_acc: 0.8696\n",
            "Epoch 12/100\n",
            "200/200 [==============================] - 0s 2ms/sample - loss: 0.2112 - acc: 0.9100 - val_loss: 0.5590 - val_acc: 0.8696\n",
            "Epoch 13/100\n",
            "200/200 [==============================] - 0s 2ms/sample - loss: 0.1790 - acc: 0.9200 - val_loss: 0.5610 - val_acc: 0.8696\n",
            "Epoch 14/100\n",
            "200/200 [==============================] - 0s 2ms/sample - loss: 0.1928 - acc: 0.9200 - val_loss: 0.5693 - val_acc: 0.6957\n",
            "Epoch 15/100\n",
            "200/200 [==============================] - 0s 2ms/sample - loss: 0.1570 - acc: 0.9150 - val_loss: 0.5785 - val_acc: 0.5652\n",
            "Epoch 16/100\n",
            "200/200 [==============================] - 0s 2ms/sample - loss: 0.2149 - acc: 0.8900 - val_loss: 0.5703 - val_acc: 0.5652\n",
            "Epoch 17/100\n",
            "200/200 [==============================] - 0s 2ms/sample - loss: 0.2278 - acc: 0.9050 - val_loss: 0.5582 - val_acc: 0.6087\n",
            "Epoch 18/100\n",
            "200/200 [==============================] - 0s 2ms/sample - loss: 0.1653 - acc: 0.9250 - val_loss: 0.5523 - val_acc: 0.6087\n",
            "Epoch 19/100\n",
            "200/200 [==============================] - 0s 2ms/sample - loss: 0.1986 - acc: 0.9050 - val_loss: 0.5571 - val_acc: 0.6087\n",
            "Epoch 20/100\n",
            "200/200 [==============================] - 0s 2ms/sample - loss: 0.1624 - acc: 0.9300 - val_loss: 0.5580 - val_acc: 0.6087\n",
            "Epoch 21/100\n",
            "200/200 [==============================] - 0s 2ms/sample - loss: 0.1492 - acc: 0.9200 - val_loss: 0.5448 - val_acc: 0.7391\n",
            "Epoch 22/100\n",
            "200/200 [==============================] - 0s 2ms/sample - loss: 0.1378 - acc: 0.9350 - val_loss: 0.5096 - val_acc: 0.8696\n",
            "Epoch 23/100\n",
            "200/200 [==============================] - 0s 2ms/sample - loss: 0.1766 - acc: 0.9200 - val_loss: 0.4836 - val_acc: 0.8696\n",
            "Epoch 24/100\n",
            "200/200 [==============================] - 0s 2ms/sample - loss: 0.1501 - acc: 0.9350 - val_loss: 0.4838 - val_acc: 0.8696\n",
            "Epoch 25/100\n",
            "200/200 [==============================] - 0s 2ms/sample - loss: 0.1856 - acc: 0.9400 - val_loss: 0.4892 - val_acc: 0.8696\n",
            "Epoch 26/100\n",
            "200/200 [==============================] - 0s 2ms/sample - loss: 0.1235 - acc: 0.9500 - val_loss: 0.4943 - val_acc: 0.7391\n",
            "Epoch 27/100\n",
            "200/200 [==============================] - 0s 2ms/sample - loss: 0.1045 - acc: 0.9600 - val_loss: 0.4904 - val_acc: 0.7391\n",
            "Epoch 28/100\n",
            "200/200 [==============================] - 0s 2ms/sample - loss: 0.1033 - acc: 0.9600 - val_loss: 0.4809 - val_acc: 0.7391\n",
            "Epoch 29/100\n",
            "200/200 [==============================] - 0s 2ms/sample - loss: 0.0807 - acc: 0.9650 - val_loss: 0.4753 - val_acc: 0.9130\n",
            "Epoch 30/100\n",
            "200/200 [==============================] - 0s 2ms/sample - loss: 0.0917 - acc: 0.9650 - val_loss: 0.4810 - val_acc: 0.8696\n",
            "Epoch 31/100\n",
            "200/200 [==============================] - 0s 2ms/sample - loss: 0.0794 - acc: 0.9700 - val_loss: 0.4785 - val_acc: 0.8696\n",
            "Epoch 32/100\n",
            "200/200 [==============================] - 0s 2ms/sample - loss: 0.0793 - acc: 0.9550 - val_loss: 0.4515 - val_acc: 0.8696\n",
            "Epoch 33/100\n",
            "200/200 [==============================] - 0s 2ms/sample - loss: 0.0964 - acc: 0.9550 - val_loss: 0.4308 - val_acc: 0.8696\n",
            "Epoch 34/100\n",
            "200/200 [==============================] - 0s 2ms/sample - loss: 0.0924 - acc: 0.9750 - val_loss: 0.4314 - val_acc: 0.8261\n",
            "Epoch 35/100\n",
            "200/200 [==============================] - 0s 2ms/sample - loss: 0.0789 - acc: 0.9600 - val_loss: 0.4485 - val_acc: 0.8696\n",
            "Epoch 36/100\n",
            "200/200 [==============================] - 0s 2ms/sample - loss: 0.1407 - acc: 0.9450 - val_loss: 0.4407 - val_acc: 0.8261\n",
            "Epoch 37/100\n",
            "200/200 [==============================] - 0s 2ms/sample - loss: 0.0893 - acc: 0.9650 - val_loss: 0.4283 - val_acc: 0.7391\n",
            "Epoch 38/100\n",
            "200/200 [==============================] - 0s 2ms/sample - loss: 0.0988 - acc: 0.9500 - val_loss: 0.4392 - val_acc: 0.7391\n",
            "Epoch 39/100\n",
            "200/200 [==============================] - 0s 2ms/sample - loss: 0.1418 - acc: 0.9250 - val_loss: 0.4350 - val_acc: 0.7391\n",
            "Epoch 40/100\n",
            "200/200 [==============================] - 0s 2ms/sample - loss: 0.0921 - acc: 0.9650 - val_loss: 0.4262 - val_acc: 0.7391\n",
            "Epoch 41/100\n",
            "200/200 [==============================] - 0s 2ms/sample - loss: 0.0774 - acc: 0.9600 - val_loss: 0.4216 - val_acc: 0.9130\n",
            "Epoch 42/100\n",
            "200/200 [==============================] - 0s 2ms/sample - loss: 0.0867 - acc: 0.9550 - val_loss: 0.4169 - val_acc: 0.8696\n",
            "Epoch 43/100\n",
            "200/200 [==============================] - 0s 2ms/sample - loss: 0.0763 - acc: 0.9650 - val_loss: 0.4088 - val_acc: 0.9130\n",
            "Epoch 44/100\n",
            "200/200 [==============================] - 0s 2ms/sample - loss: 0.0487 - acc: 0.9800 - val_loss: 0.4028 - val_acc: 0.8696\n",
            "Epoch 45/100\n",
            "200/200 [==============================] - 0s 2ms/sample - loss: 0.0524 - acc: 0.9700 - val_loss: 0.3965 - val_acc: 0.7391\n",
            "Epoch 46/100\n",
            "200/200 [==============================] - 0s 2ms/sample - loss: 0.0580 - acc: 0.9750 - val_loss: 0.3880 - val_acc: 0.7391\n",
            "Epoch 47/100\n",
            "200/200 [==============================] - 0s 2ms/sample - loss: 0.0671 - acc: 0.9700 - val_loss: 0.3731 - val_acc: 0.7391\n",
            "Epoch 48/100\n",
            "200/200 [==============================] - 0s 2ms/sample - loss: 0.0845 - acc: 0.9600 - val_loss: 0.3739 - val_acc: 0.7826\n",
            "Epoch 49/100\n",
            "200/200 [==============================] - 0s 2ms/sample - loss: 0.0561 - acc: 0.9700 - val_loss: 0.3814 - val_acc: 0.9130\n",
            "Epoch 50/100\n",
            "200/200 [==============================] - 0s 2ms/sample - loss: 0.0569 - acc: 0.9700 - val_loss: 0.3882 - val_acc: 0.8696\n",
            "Epoch 51/100\n",
            "200/200 [==============================] - 0s 2ms/sample - loss: 0.0670 - acc: 0.9700 - val_loss: 0.3854 - val_acc: 0.9130\n",
            "Epoch 52/100\n",
            "200/200 [==============================] - 0s 2ms/sample - loss: 0.0556 - acc: 0.9700 - val_loss: 0.3688 - val_acc: 0.9130\n",
            "Epoch 53/100\n",
            "200/200 [==============================] - 0s 2ms/sample - loss: 0.0545 - acc: 0.9700 - val_loss: 0.3565 - val_acc: 0.9130\n",
            "Epoch 54/100\n",
            "200/200 [==============================] - 1s 4ms/sample - loss: 0.0526 - acc: 0.9850 - val_loss: 0.3733 - val_acc: 0.7391\n"
          ],
          "name": "stdout"
        },
        {
          "output_type": "execute_result",
          "data": {
            "text/plain": [
              "<tensorflow.python.keras.callbacks.History at 0x7f91a26a3da0>"
            ]
          },
          "metadata": {
            "tags": []
          },
          "execution_count": 82
        }
      ]
    },
    {
      "cell_type": "code",
      "metadata": {
        "id": "LxE__Fxodh_R",
        "colab_type": "code",
        "outputId": "886155f4-f441-4e39-d71e-6c317081fa6a",
        "colab": {
          "base_uri": "https://localhost:8080/",
          "height": 372
        }
      },
      "source": [
        "print(\"TRAIN\")\n",
        "\n",
        "results = model.evaluate(x_train_reshaped, y_train_reshaped, batch_size=BATCH_SIZE)\n",
        "\n",
        "for num in range(0,len(model.metrics_names)):\n",
        "    print(model.metrics_names[num]+': '+str(results[num]))\n",
        "\n",
        "predicted_prob = model.predict(x_train_reshaped)\n",
        "predicted = np.argmax(predicted_prob,axis = 1)\n",
        "\n",
        "confusion = sklearn.metrics.confusion_matrix(y_true=y_train, y_pred=predicted)\n",
        "print(confusion)\n",
        "tn, fp, fn, tp = confusion.ravel()\n",
        "print('\\nTP:',tp)\n",
        "print('FP:',fp)\n",
        "print('TN:',tn)\n",
        "print('FN:',fn)\n",
        "\n",
        "## Performance measure\n",
        "print('\\nAccuracy: '+ str(sklearn.metrics.accuracy_score(y_true=y_train, y_pred=predicted)))\n",
        "print('Precision: '+ str(sklearn.metrics.precision_score(y_true=y_train, y_pred=predicted)))\n",
        "print('Recall: '+ str(sklearn.metrics.recall_score(y_true=y_train, y_pred=predicted)))\n",
        "print('F-measure: '+ str(sklearn.metrics.f1_score(y_true=y_train, y_pred=predicted)))\n",
        "print(\"False Positive Rate:\" + str(fp/(tn+fp)))\n",
        "print('AUC: '+ str(sklearn.metrics.roc_auc_score(y_true=y_train, y_score=np.argmax(predicted_prob,axis = 1))))\n",
        "print('Precision-Recall AUC: '+ str(sklearn.metrics.average_precision_score(y_true=y_train, y_score=np.argmax(predicted_prob,axis = 1))))\n",
        "print('MCC: '+ str(sklearn.metrics.matthews_corrcoef(y_true=y_train, y_pred=predicted)))"
      ],
      "execution_count": 83,
      "outputs": [
        {
          "output_type": "stream",
          "text": [
            "TRAIN\n",
            "223/223 [==============================] - 0s 161us/sample - loss: 0.4839 - acc: 0.8520\n",
            "loss: 0.48385296568207675\n",
            "acc: 0.85201794\n",
            "[[ 60  27]\n",
            " [  6 130]]\n",
            "\n",
            "TP: 130\n",
            "FP: 27\n",
            "TN: 60\n",
            "FN: 6\n",
            "\n",
            "Accuracy: 0.852017937219731\n",
            "Precision: 0.8280254777070064\n",
            "Recall: 0.9558823529411765\n",
            "F-measure: 0.8873720136518771\n",
            "False Positive Rate:0.3103448275862069\n",
            "AUC: 0.8227687626774849\n",
            "Precision-Recall AUC: 0.8184007715222275\n",
            "MCC: 0.689808878046755\n"
          ],
          "name": "stdout"
        }
      ]
    },
    {
      "cell_type": "code",
      "metadata": {
        "id": "glvnp1UMDwzn",
        "colab_type": "code",
        "outputId": "1b9e5256-16e1-4aa6-aab2-dab922ba5471",
        "colab": {
          "base_uri": "https://localhost:8080/",
          "height": 372
        }
      },
      "source": [
        "print(\"TEST\")\n",
        "\n",
        "results = model.evaluate(x_test_reshaped, y_test_reshaped, batch_size=BATCH_SIZE)\n",
        "\n",
        "for num in range(0,len(model.metrics_names)):\n",
        "    print(model.metrics_names[num]+': '+str(results[num]))\n",
        "\n",
        "predicted_prob = model.predict(x_test_reshaped)\n",
        "predicted = np.argmax(predicted_prob,axis = 1)\n",
        "\n",
        "# predicted = model.predict_classes(x_test_reshaped)\n",
        "# predicted_prob = model.predict(x_test_reshaped)\n",
        "\n",
        "confusion = sklearn.metrics.confusion_matrix(y_true=y_test, y_pred=predicted)\n",
        "print(confusion)\n",
        "tn, fp, fn, tp = confusion.ravel()\n",
        "print('\\nTP:',tp)\n",
        "print('FP:',fp)\n",
        "print('TN:',tn)\n",
        "print('FN:',fn)\n",
        "\n",
        "## Performance measure\n",
        "print('\\nAccuracy: '+ str(sklearn.metrics.accuracy_score(y_true=y_test, y_pred=predicted)))\n",
        "print('Precision: '+ str(sklearn.metrics.precision_score(y_true=y_test, y_pred=predicted)))\n",
        "print('Recall: '+ str(sklearn.metrics.recall_score(y_true=y_test, y_pred=predicted)))\n",
        "print('F-measure: '+ str(sklearn.metrics.f1_score(y_true=y_test, y_pred=predicted)))\n",
        "print(\"False Positive Rate:\" + str(fp/(tn+fp)))\n",
        "print('AUC: '+ str(sklearn.metrics.roc_auc_score(y_true=y_test, y_score=np.argmax(predicted_prob,axis = 1))))\n",
        "print('Precision-Recall AUC: '+ str(sklearn.metrics.average_precision_score(y_true=y_test, y_score=np.argmax(predicted_prob,axis = 1))))\n",
        "print('MCC: '+ str(sklearn.metrics.matthews_corrcoef(y_true=y_test, y_pred=predicted)))"
      ],
      "execution_count": 84,
      "outputs": [
        {
          "output_type": "stream",
          "text": [
            "TEST\n",
            "\r56/56 [==============================] - 0s 185us/sample - loss: 0.5350 - acc: 0.8036\n",
            "loss: 0.535033106803894\n",
            "acc: 0.8035714\n",
            "[[16 10]\n",
            " [ 1 29]]\n",
            "\n",
            "TP: 29\n",
            "FP: 10\n",
            "TN: 16\n",
            "FN: 1\n",
            "\n",
            "Accuracy: 0.8035714285714286\n",
            "Precision: 0.7435897435897436\n",
            "Recall: 0.9666666666666667\n",
            "F-measure: 0.8405797101449275\n",
            "False Positive Rate:0.38461538461538464\n",
            "AUC: 0.7910256410256411\n",
            "Precision-Recall AUC: 0.7366605616605617\n",
            "MCC: 0.631323255446602\n"
          ],
          "name": "stdout"
        }
      ]
    },
    {
      "cell_type": "markdown",
      "metadata": {
        "id": "mWpARYh0F60E",
        "colab_type": "text"
      },
      "source": [
        "# SVM"
      ]
    },
    {
      "cell_type": "code",
      "metadata": {
        "id": "9UAOBcVSeJfv",
        "colab_type": "code",
        "outputId": "38f74b71-58b6-4e5a-98de-8b4946343ef5",
        "colab": {
          "base_uri": "https://localhost:8080/",
          "height": 105
        }
      },
      "source": [
        "from sklearn.svm import SVC\n",
        "\n",
        "# SVM\n",
        "print(\"SVM (kernel = linear)\")\n",
        "support_vector_classifier = SVC(kernel='linear', probability=True)\n",
        "support_vector_classifier.fit(x_train, y_train)"
      ],
      "execution_count": 85,
      "outputs": [
        {
          "output_type": "stream",
          "text": [
            "SVM (kernel = linear)\n"
          ],
          "name": "stdout"
        },
        {
          "output_type": "execute_result",
          "data": {
            "text/plain": [
              "SVC(C=1.0, break_ties=False, cache_size=200, class_weight=None, coef0=0.0,\n",
              "    decision_function_shape='ovr', degree=3, gamma='scale', kernel='linear',\n",
              "    max_iter=-1, probability=True, random_state=None, shrinking=True, tol=0.001,\n",
              "    verbose=False)"
            ]
          },
          "metadata": {
            "tags": []
          },
          "execution_count": 85
        }
      ]
    },
    {
      "cell_type": "code",
      "metadata": {
        "id": "dm8rVKZWeLH0",
        "colab_type": "code",
        "outputId": "5fdeb351-816e-4b74-f440-2a5654a1c8db",
        "colab": {
          "base_uri": "https://localhost:8080/",
          "height": 318
        }
      },
      "source": [
        "print(\"TRAIN\")\n",
        "predicted_svm = support_vector_classifier.predict(x_train)\n",
        "predicted_prob_svm = support_vector_classifier.predict_proba(x_train)\n",
        "\n",
        "confusion = sklearn.metrics.confusion_matrix(y_true=y_train, y_pred=predicted_svm)\n",
        "print(confusion)\n",
        "tn, fp, fn, tp = confusion.ravel()\n",
        "print('\\nTP:',tp)\n",
        "print('FP:',fp)\n",
        "print('TN:',tn)\n",
        "print('FN:',fn)\n",
        "\n",
        "## Performance measure\n",
        "print('\\nAccuracy: '+ str(sklearn.metrics.accuracy_score(y_true=y_train, y_pred=predicted_svm)))\n",
        "print('Precision: '+ str(sklearn.metrics.precision_score(y_true=y_train, y_pred=predicted_svm)))\n",
        "print('Recall: '+ str(sklearn.metrics.recall_score(y_true=y_train, y_pred=predicted_svm)))\n",
        "print('F-measure: '+ str(sklearn.metrics.f1_score(y_true=y_train, y_pred=predicted_svm)))\n",
        "print(\"False Positive Rate:\" + str(fp/(tn+fp)))\n",
        "print('AUC: '+ str(sklearn.metrics.roc_auc_score(y_true=y_train, y_score=np.argmax(predicted_prob_svm,axis = 1))))\n",
        "print('Precision-Recall AUC: '+ str(sklearn.metrics.average_precision_score(y_true=y_train, y_score=np.argmax(predicted_prob_svm,axis = 1))))\n",
        "print('MCC: '+ str(sklearn.metrics.matthews_corrcoef(y_true=y_train, y_pred=predicted_svm)))"
      ],
      "execution_count": 86,
      "outputs": [
        {
          "output_type": "stream",
          "text": [
            "TRAIN\n",
            "[[ 85   2]\n",
            " [ 12 124]]\n",
            "\n",
            "TP: 124\n",
            "FP: 2\n",
            "TN: 85\n",
            "FN: 12\n",
            "\n",
            "Accuracy: 0.9372197309417041\n",
            "Precision: 0.9841269841269841\n",
            "Recall: 0.9117647058823529\n",
            "F-measure: 0.9465648854961831\n",
            "False Positive Rate:0.022988505747126436\n",
            "AUC: 0.9423174442190668\n",
            "Precision-Recall AUC: 0.9469031814659721\n",
            "MCC: 0.8744809583637778\n"
          ],
          "name": "stdout"
        }
      ]
    },
    {
      "cell_type": "code",
      "metadata": {
        "id": "as4GgGU_pRoN",
        "colab_type": "code",
        "outputId": "80fe5692-7e94-49df-f9cc-f906cc438ab6",
        "colab": {
          "base_uri": "https://localhost:8080/",
          "height": 318
        }
      },
      "source": [
        "print(\"TEST\")\n",
        "\n",
        "predicted_svm = support_vector_classifier.predict(x_test)\n",
        "predicted_prob_svm = support_vector_classifier.predict_proba(x_test)\n",
        "\n",
        "confusion = sklearn.metrics.confusion_matrix(y_true=y_test, y_pred=predicted_svm)\n",
        "print(confusion)\n",
        "tn, fp, fn, tp = confusion.ravel()\n",
        "print('\\nTP:',tp)\n",
        "print('FP:',fp)\n",
        "print('TN:',tn)\n",
        "print('FN:',fn)\n",
        "\n",
        "## Performance measure\n",
        "print('\\nAccuracy: '+ str(sklearn.metrics.accuracy_score(y_true=y_test, y_pred=predicted_svm)))\n",
        "print('Precision: '+ str(sklearn.metrics.precision_score(y_true=y_test, y_pred=predicted_svm)))\n",
        "print('Recall: '+ str(sklearn.metrics.recall_score(y_true=y_test, y_pred=predicted_svm)))\n",
        "print('F-measure: '+ str(sklearn.metrics.f1_score(y_true=y_test, y_pred=predicted_svm)))\n",
        "print(\"False Positive Rate:\" + str(fp/(tn+fp)))\n",
        "print('AUC: '+ str(sklearn.metrics.roc_auc_score(y_true=y_test, y_score=np.argmax(predicted_prob_svm,axis = 1))))\n",
        "print('Precision-Recall AUC: '+ str(sklearn.metrics.average_precision_score(y_true=y_test, y_score=np.argmax(predicted_prob_svm,axis = 1))))\n",
        "print('MCC: '+ str(sklearn.metrics.matthews_corrcoef(y_true=y_test, y_pred=predicted_svm)))"
      ],
      "execution_count": 87,
      "outputs": [
        {
          "output_type": "stream",
          "text": [
            "TEST\n",
            "[[24  2]\n",
            " [ 7 23]]\n",
            "\n",
            "TP: 23\n",
            "FP: 2\n",
            "TN: 24\n",
            "FN: 7\n",
            "\n",
            "Accuracy: 0.8392857142857143\n",
            "Precision: 0.92\n",
            "Recall: 0.7666666666666667\n",
            "F-measure: 0.8363636363636363\n",
            "False Positive Rate:0.07692307692307693\n",
            "AUC: 0.8615384615384616\n",
            "Precision-Recall AUC: 0.8456043956043956\n",
            "MCC: 0.691964991918924\n"
          ],
          "name": "stdout"
        }
      ]
    },
    {
      "cell_type": "code",
      "metadata": {
        "id": "hobCjX93oBox",
        "colab_type": "code",
        "outputId": "6803c2aa-485c-4c98-a7b2-970c145c5133",
        "colab": {
          "base_uri": "https://localhost:8080/",
          "height": 294
        }
      },
      "source": [
        "fpr_svm, tpr_svm, _ = sklearn.metrics.roc_curve(y_test, predicted_prob_svm[:, 1])\n",
        "roc_auc_svm = sklearn.metrics.auc(fpr_svm, tpr_svm)\n",
        "\n",
        "fpr_rf, tpr_rf, _ = sklearn.metrics.roc_curve(y_test, predicted_prob_rf[:, 1])\n",
        "roc_auc_rf = sklearn.metrics.auc(fpr_rf, tpr_rf)\n",
        "\n",
        "plt.figure()\n",
        "plt.plot(fpr_svm, tpr_svm, color='darkorange',\n",
        "         lw=2, label='Randomforest (area = %0.2f)' % roc_auc_svm)\n",
        "plt.plot(fpr_rf, tpr_rf, color='darkgreen',\n",
        "         lw=2, label='svm(area = %0.2f)' % roc_auc_rf)\n",
        "plt.plot([0, 1], [0, 1], color='navy', lw=2, linestyle='--')\n",
        "plt.xlim([0.0, 1.0])\n",
        "plt.ylim([0.0, 1.05])\n",
        "plt.xlabel('False Positive Rate')\n",
        "plt.ylabel('True Positive Rate')\n",
        "plt.title('ROC Curve')\n",
        "plt.legend(loc=\"lower right\")\n",
        "plt.show()"
      ],
      "execution_count": 88,
      "outputs": [
        {
          "output_type": "display_data",
          "data": {
            "image/png": "[encoded data removed]",
            "text/plain": [
              "<Figure size 432x288 with 1 Axes>"
            ]
          },
          "metadata": {
            "tags": []
          }
        }
      ]
    },
    {
      "cell_type": "markdown",
      "metadata": {
        "id": "yw2IoruPj6Tz",
        "colab_type": "text"
      },
      "source": [
        "# Summary"
      ]
    },
    {
      "cell_type": "code",
      "metadata": {
        "id": "LzEcOih6OVk3",
        "colab_type": "code",
        "outputId": "d8cf36d6-9dbc-427c-dad1-d48d1a08901a",
        "colab": {
          "base_uri": "https://localhost:8080/",
          "height": 621
        }
      },
      "source": [
        "# Random Forest\n",
        "print(\"RANDOM FOREST\")\n",
        "print('\\nAccuracy: '+ str(sklearn.metrics.accuracy_score(y_true=y_test, y_pred=predicted_rf)))\n",
        "print('Precision: '+ str(sklearn.metrics.precision_score(y_true=y_test, y_pred=predicted_rf)))\n",
        "print('Recall: '+ str(sklearn.metrics.recall_score(y_true=y_test, y_pred=predicted_rf)))\n",
        "print('F-measure: '+ str(sklearn.metrics.f1_score(y_true=y_test, y_pred=predicted_rf)))\n",
        "confusion = sklearn.metrics.confusion_matrix(y_true=y_test, y_pred=predicted_rf)\n",
        "tn, fp, fn, tp = confusion.ravel()\n",
        "print(\"False Positive Rate:\" + str(fp/(tn+fp)))\n",
        "print('AUC: '+ str(sklearn.metrics.roc_auc_score(y_true=y_test, y_score=np.argmax(predicted_prob_rf,axis = 1))))\n",
        "print('Precision-Recall AUC: '+ str(sklearn.metrics.average_precision_score(y_true=y_test, y_score=np.argmax(predicted_prob_rf,axis = 1))))\n",
        "print('MCC: '+ str(sklearn.metrics.matthews_corrcoef(y_true=y_test, y_pred=predicted_rf)))\n",
        "print(\"\\n\")\n",
        "\n",
        "## SVM\n",
        "print(\"SVM\")\n",
        "print('\\nAccuracy: '+ str(sklearn.metrics.accuracy_score(y_true=y_test, y_pred=predicted_svm)))\n",
        "print('Precision: '+ str(sklearn.metrics.precision_score(y_true=y_test, y_pred=predicted_svm)))\n",
        "print('Recall: '+ str(sklearn.metrics.recall_score(y_true=y_test, y_pred=predicted_svm)))\n",
        "print('F-measure: '+ str(sklearn.metrics.f1_score(y_true=y_test, y_pred=predicted_svm)))\n",
        "confusion = sklearn.metrics.confusion_matrix(y_true=y_test, y_pred=predicted_svm)\n",
        "tn, fp, fn, tp = confusion.ravel()\n",
        "print(\"False Positive Rate:\" + str(fp/(tn+fp)))\n",
        "print('AUC: '+ str(sklearn.metrics.roc_auc_score(y_true=y_test, y_score=np.argmax(predicted_prob_svm,axis = 1))))\n",
        "print('Precision-Recall AUC: '+ str(sklearn.metrics.average_precision_score(y_true=y_test, y_score=np.argmax(predicted_prob_svm,axis = 1))))\n",
        "print('MCC: '+ str(sklearn.metrics.matthews_corrcoef(y_true=y_test, y_pred=predicted_svm)))\n",
        "print(\"\\n\")\n",
        "\n",
        "#Resnet\n",
        "print(\"RESNET\")\n",
        "print('\\nAccuracy: '+ str(sklearn.metrics.accuracy_score(y_true=y_test, y_pred=predicted)))\n",
        "print('Precision: '+ str(sklearn.metrics.precision_score(y_true=y_test, y_pred=predicted)))\n",
        "print('Recall: '+ str(sklearn.metrics.recall_score(y_true=y_test, y_pred=predicted)))\n",
        "print('F-measure: '+ str(sklearn.metrics.f1_score(y_true=y_test, y_pred=predicted)))\n",
        "confusion = sklearn.metrics.confusion_matrix(y_true=y_test, y_pred=predicted)\n",
        "tn, fp, fn, tp = confusion.ravel()\n",
        "print(\"False Positive Rate:\" + str(fp/(tn+fp)))\n",
        "print('AUC: '+ str(sklearn.metrics.roc_auc_score(y_true=y_test, y_score=np.argmax(predicted_prob,axis = 1))))\n",
        "print('Precision-Recall AUC: '+ str(sklearn.metrics.average_precision_score(y_true=y_test, y_score=np.argmax(predicted_prob,axis = 1))))\n",
        "print('MCC: '+ str(sklearn.metrics.matthews_corrcoef(y_true=y_test, y_pred=predicted)))"
      ],
      "execution_count": 89,
      "outputs": [
        {
          "output_type": "stream",
          "text": [
            "RANDOM FOREST\n",
            "\n",
            "Accuracy: 0.9107142857142857\n",
            "Precision: 0.9032258064516129\n",
            "Recall: 0.9333333333333333\n",
            "F-measure: 0.9180327868852459\n",
            "False Positive Rate:0.11538461538461539\n",
            "AUC: 0.908974358974359\n",
            "Precision-Recall AUC: 0.8787250384024577\n",
            "MCC: 0.8205830201566422\n",
            "\n",
            "\n",
            "SVM\n",
            "\n",
            "Accuracy: 0.8392857142857143\n",
            "Precision: 0.92\n",
            "Recall: 0.7666666666666667\n",
            "F-measure: 0.8363636363636363\n",
            "False Positive Rate:0.07692307692307693\n",
            "AUC: 0.8615384615384616\n",
            "Precision-Recall AUC: 0.8456043956043956\n",
            "MCC: 0.691964991918924\n",
            "\n",
            "\n",
            "RESNET\n",
            "\n",
            "Accuracy: 0.8035714285714286\n",
            "Precision: 0.7435897435897436\n",
            "Recall: 0.9666666666666667\n",
            "F-measure: 0.8405797101449275\n",
            "False Positive Rate:0.38461538461538464\n",
            "AUC: 0.7910256410256411\n",
            "Precision-Recall AUC: 0.7366605616605617\n",
            "MCC: 0.631323255446602\n"
          ],
          "name": "stdout"
        }
      ]
    }
  ]
}