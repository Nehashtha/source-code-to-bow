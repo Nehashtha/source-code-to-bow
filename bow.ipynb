{
 "cells": [
  {
   "cell_type": "code",
   "execution_count": 1,
   "metadata": {
    "colab": {},
    "colab_type": "code",
    "id": "ine0ftk1wMZA"
   },
   "outputs": [],
   "source": [
    "import pandas as pd\n",
    "\n",
    "data = pd.read_csv('Data/Ankidroid_bow_features.csv', dtype={'is_vulnerable': bool})\n",
    "data['is_vulnerable'] = data['is_vulnerable'].map({False: 0, True: 1})\n"
   ]
  },
  {
   "cell_type": "code",
   "execution_count": 2,
   "metadata": {
    "colab": {},
    "colab_type": "code",
    "id": "7UKMSBJFv9t7"
   },
   "outputs": [],
   "source": [
    "x = data.loc[:, data.columns != 'is_vulnerable']\n",
    "y = data['is_vulnerable']\n",
    "SEQUENCE_LENGTH = x.shape[1]"
   ]
  },
  {
   "cell_type": "code",
   "execution_count": 3,
   "metadata": {
    "colab": {},
    "colab_type": "code",
    "id": "L7aIqz5EWvlY"
   },
   "outputs": [],
   "source": [
    "from sklearn.model_selection import train_test_split\n",
    "TEST_SPLIT = 0.2\n",
    "x_train, x_test, y_train, y_test = train_test_split(x, y, test_size=TEST_SPLIT, random_state=42)"
   ]
  },
  {
   "cell_type": "code",
   "execution_count": null,
   "metadata": {
    "colab": {},
    "colab_type": "code",
    "id": "uexvjI5Sw3gO"
   },
   "outputs": [],
   "source": [
    "import numpy as np\n",
    "import sklearn\n",
    "import matplotlib.pyplot as plt\n",
    "import tensorflow as tf"
   ]
  },
  {
   "cell_type": "markdown",
   "metadata": {
    "colab_type": "text",
    "id": "AzgcV6RCF1o8"
   },
   "source": [
    "# Random Forest"
   ]
  },
  {
   "cell_type": "code",
   "execution_count": null,
   "metadata": {
    "colab": {
     "base_uri": "https://localhost:8080/",
     "height": 158
    },
    "colab_type": "code",
    "id": "hpdwj4VCd5Vl",
    "outputId": "841a4748-8f46-41db-a3eb-db2fb4a2f3fc"
   },
   "outputs": [],
   "source": [
    "from sklearn.ensemble import RandomForestClassifier\n",
    "\n",
    "# Random forest\n",
    "random_forest_classifier = RandomForestClassifier(n_estimators=1000, random_state=42)\n",
    "random_forest_classifier.fit(x_train, y_train)"
   ]
  },
  {
   "cell_type": "code",
   "execution_count": null,
   "metadata": {
    "colab": {
     "base_uri": "https://localhost:8080/",
     "height": 318
    },
    "colab_type": "code",
    "id": "0PU6rnmSd5N5",
    "outputId": "329a8e7d-d4ad-4c94-c20f-ca821d575318"
   },
   "outputs": [],
   "source": [
    "print(\"TRAIN\")\n",
    "\n",
    "predicted_rf = random_forest_classifier.predict(x_train)\n",
    "predicted_prob_rf = random_forest_classifier.predict_proba(x_train)\n",
    "\n",
    "confusion = sklearn.metrics.confusion_matrix(y_true=y_train, y_pred=predicted_rf)\n",
    "print(confusion)\n",
    "tn, fp, fn, tp = confusion.ravel()\n",
    "print('\\nTP:',tp)\n",
    "print('FP:',fp)\n",
    "print('TN:',tn)\n",
    "print('FN:',fn)\n",
    "\n",
    "## Performance measure\n",
    "print('\\nAccuracy: '+ str(sklearn.metrics.accuracy_score(y_true=y_train, y_pred=predicted_rf)))\n",
    "print('Precision: '+ str(sklearn.metrics.precision_score(y_true=y_train, y_pred=predicted_rf)))\n",
    "print('Recall: '+ str(sklearn.metrics.recall_score(y_true=y_train, y_pred=predicted_rf)))\n",
    "print('F-measure: '+ str(sklearn.metrics.f1_score(y_true=y_train, y_pred=predicted_rf)))\n",
    "print(\"False Positive Rate:\" + str(fp/(tn+fp)))\n",
    "print('AUC: '+ str(sklearn.metrics.roc_auc_score(y_true=y_train, y_score=np.argmax(predicted_prob_rf,axis = 1))))\n",
    "print('Precision-Recall AUC: '+ str(sklearn.metrics.average_precision_score(y_true=y_train, y_score=np.argmax(predicted_prob_rf,axis = 1))))\n",
    "print('MCC: '+ str(sklearn.metrics.matthews_corrcoef(y_true=y_train, y_pred=predicted_rf)))"
   ]
  },
  {
   "cell_type": "code",
   "execution_count": null,
   "metadata": {
    "colab": {
     "base_uri": "https://localhost:8080/",
     "height": 318
    },
    "colab_type": "code",
    "id": "1GMe-FMPpDsR",
    "outputId": "c2688b88-91dd-46f5-f422-4afa0bca3fe5"
   },
   "outputs": [],
   "source": [
    "print(\"TEST\")\n",
    "\n",
    "\n",
    "predicted_rf = random_forest_classifier.predict(x_test)\n",
    "predicted_prob_rf = random_forest_classifier.predict_proba(x_test)\n",
    "\n",
    "confusion = sklearn.metrics.confusion_matrix(y_true=y_test, y_pred=predicted_rf)\n",
    "print(confusion)\n",
    "tn, fp, fn, tp = confusion.ravel()\n",
    "print('\\nTP:',tp)\n",
    "print('FP:',fp)\n",
    "print('TN:',tn)\n",
    "print('FN:',fn)\n",
    "\n",
    "## Performance measure\n",
    "print('\\nAccuracy: '+ str(sklearn.metrics.accuracy_score(y_true=y_test, y_pred=predicted_rf)))\n",
    "print('Precision: '+ str(sklearn.metrics.precision_score(y_true=y_test, y_pred=predicted_rf)))\n",
    "print('Recall: '+ str(sklearn.metrics.recall_score(y_true=y_test, y_pred=predicted_rf)))\n",
    "print('F-measure: '+ str(sklearn.metrics.f1_score(y_true=y_test, y_pred=predicted_rf)))\n",
    "print(\"False Positive Rate:\" + str(fp/(tn+fp)))\n",
    "print('AUC: '+ str(sklearn.metrics.roc_auc_score(y_true=y_test, y_score=np.argmax(predicted_prob_rf,axis = 1))))\n",
    "print('Precision-Recall AUC: '+ str(sklearn.metrics.average_precision_score(y_true=y_test, y_score=np.argmax(predicted_prob_rf,axis = 1))))\n",
    "print('MCC: '+ str(sklearn.metrics.matthews_corrcoef(y_true=y_test, y_pred=predicted_rf)))"
   ]
  },
  {
   "cell_type": "markdown",
   "metadata": {
    "colab_type": "text",
    "id": "8Ld9Mkr-F5O8"
   },
   "source": [
    "#Resnet"
   ]
  },
  {
   "cell_type": "code",
   "execution_count": null,
   "metadata": {
    "colab": {},
    "colab_type": "code",
    "id": "sRWlb3xXZfYD"
   },
   "outputs": [],
   "source": [
    "def bn_relu(layer, dropout=0, **params):\n",
    "    layer = tf.keras.layers.BatchNormalization()(layer)\n",
    "    layer = tf.keras.layers.Activation(params['conv_activation'])(layer)\n",
    "\n",
    "    if dropout > 0:\n",
    "        layer = tf.keras.layers.Dropout(dropout)(layer)\n",
    "    return layer"
   ]
  },
  {
   "cell_type": "code",
   "execution_count": null,
   "metadata": {
    "colab": {},
    "colab_type": "code",
    "id": "VQMTOgndZhdQ"
   },
   "outputs": [],
   "source": [
    "def resnet_block(layer, filters, kernels, dropout, activation,\n",
    "                 cross_block=False, is_first=False, is_last=False, shrink=False):\n",
    "  # -BN-Act-Conv-BN-Act-Conv--\n",
    "  # ↳-----------------------↑\n",
    "  strides = 1\n",
    "  if shrink:\n",
    "    strides = 2\n",
    "  if cross_block:\n",
    "    shortcut = tf.keras.layers.Conv1D(filters=filters,\n",
    "                      kernel_size=strides,\n",
    "                      kernel_initializer='random_uniform',\n",
    "                      # kernel_regularizer=regularizers.l2(0.01),\n",
    "                      strides=strides,\n",
    "                      padding='same')(layer)\n",
    "  else:\n",
    "    shortcut = layer\n",
    "\n",
    "  if not is_first:\n",
    "    layer = bn_relu(layer, dropout=dropout, conv_activation=activation)\n",
    "\n",
    "  layer = tf.keras.layers.Conv1D(filters=filters,\n",
    "                 kernel_size=kernels,\n",
    "                 kernel_initializer='random_uniform',\n",
    "                 # kernel_regularizer=regularizers.l2(0.01),\n",
    "                 strides=strides,\n",
    "                 padding='same')(layer)\n",
    "  layer = bn_relu(layer, dropout=dropout, conv_activation=activation)\n",
    "  layer = tf.keras.layers.Conv1D(filters=filters,\n",
    "                 kernel_size=kernels,\n",
    "                 kernel_initializer='random_uniform',\n",
    "                 # kernel_regularizer=regularizers.l2(0.01),\n",
    "                 strides=1,\n",
    "                 padding='same')(layer)\n",
    "  layer = tf.keras.layers.add([shortcut, layer])\n",
    "\n",
    "  if is_last:\n",
    "    layer = bn_relu(layer, dropout=dropout, conv_activation=activation)\n",
    "\n",
    "  return layer"
   ]
  },
  {
   "cell_type": "code",
   "execution_count": null,
   "metadata": {
    "colab": {
     "base_uri": "https://localhost:8080/",
     "height": 1000
    },
    "colab_type": "code",
    "id": "uNk-GuzUYml7",
    "outputId": "ddac8df7-1b76-47ba-d9a6-88f20127d616"
   },
   "outputs": [],
   "source": [
    "'''create model'''\n",
    "\n",
    "OUTPUT_SHAPE = 2\n",
    "input = tf.keras.layers.Input(shape=(1,SEQUENCE_LENGTH))\n",
    "\n",
    "layer = tf.keras.layers.Conv1D(filters=32,\n",
    "               kernel_size=3,\n",
    "               kernel_initializer='random_uniform',\n",
    "               # kernel_regularizer=regularizers.l2(0.01),\n",
    "               strides=1,\n",
    "               padding='same')(input)\n",
    "\n",
    "\n",
    "layer = resnet_block(layer=layer, filters=32, kernels=3, dropout=0, activation='relu')\n",
    "\n",
    "layer = resnet_block(layer, 64, 3, 0, 'relu', cross_block=True, shrink=True)\n",
    "layer = resnet_block(layer, 64, 3, 0, 'relu')\n",
    "\n",
    "layer = resnet_block(layer, 128, 3, 0, 'relu', cross_block=True, shrink=True)\n",
    "layer = resnet_block(layer, 128, 3, 0, 'relu')\n",
    "\n",
    "layer = resnet_block(layer, 256, 3, 0, 'relu', cross_block=True, shrink=True)\n",
    "layer = resnet_block(layer, 256, 3, 0, 'relu')\n",
    "layer = tf.keras.layers.Flatten()(layer)\n",
    "output = tf.keras.layers.Dense(units=OUTPUT_SHAPE, activation='softmax')(layer)\n",
    "\n",
    "model = tf.keras.Model(inputs=[input], outputs=[output])\n",
    "\n",
    "optimizer = tf.keras.optimizers.Adam(lr=0.005)\n",
    "model.summary()\n",
    "model.compile(loss='categorical_crossentropy',\n",
    "              optimizer=optimizer,\n",
    "              metrics=['accuracy'])\n",
    "monitor = tf.keras.callbacks.EarlyStopping(monitor='val_acc', min_delta=1e-3, patience=25, mode='auto', restore_best_weights=True)"
   ]
  },
  {
   "cell_type": "code",
   "execution_count": null,
   "metadata": {
    "colab": {},
    "colab_type": "code",
    "id": "c0IaTwTrOuJh"
   },
   "outputs": [],
   "source": [
    "BATCH_SIZE = 150\n",
    "EPOCHS = 100\n",
    "VALIDATION_SPLIT = 0.1"
   ]
  },
  {
   "cell_type": "code",
   "execution_count": null,
   "metadata": {
    "colab": {
     "base_uri": "https://localhost:8080/",
     "height": 230
    },
    "colab_type": "code",
    "id": "9fXy69JAxT7O",
    "outputId": "0f693452-26fa-4c84-cc7e-8b0f2aa8023c"
   },
   "outputs": [],
   "source": [
    "y_train"
   ]
  },
  {
   "cell_type": "code",
   "execution_count": null,
   "metadata": {
    "colab": {},
    "colab_type": "code",
    "id": "BdK_0URfOw5g"
   },
   "outputs": [],
   "source": [
    "x_train_reshaped = np.array(x_train).reshape(-1, 1, SEQUENCE_LENGTH) \n",
    "y_train_reshaped = np.eye(2)[y_train]\n",
    "\n",
    "x_test_reshaped =  np.array(x_test).reshape(-1, 1, SEQUENCE_LENGTH) \n",
    "y_test_reshaped = np.eye(2)[y_test]"
   ]
  },
  {
   "cell_type": "code",
   "execution_count": null,
   "metadata": {
    "colab": {
     "base_uri": "https://localhost:8080/",
     "height": 1000
    },
    "colab_type": "code",
    "id": "GZxFe7RJsVwm",
    "outputId": "ddbe5292-3fb6-4b28-bea0-45bbe9ec9870"
   },
   "outputs": [],
   "source": [
    "model.fit(x_train_reshaped,\n",
    "          y_train_reshaped,\n",
    "          batch_size=BATCH_SIZE,\n",
    "          epochs=EPOCHS,\n",
    "          validation_split=VALIDATION_SPLIT,\n",
    "          callbacks=[monitor])"
   ]
  },
  {
   "cell_type": "code",
   "execution_count": null,
   "metadata": {
    "colab": {
     "base_uri": "https://localhost:8080/",
     "height": 372
    },
    "colab_type": "code",
    "id": "LxE__Fxodh_R",
    "outputId": "886155f4-f441-4e39-d71e-6c317081fa6a"
   },
   "outputs": [],
   "source": [
    "print(\"TRAIN\")\n",
    "\n",
    "results = model.evaluate(x_train_reshaped, y_train_reshaped, batch_size=BATCH_SIZE)\n",
    "\n",
    "for num in range(0,len(model.metrics_names)):\n",
    "    print(model.metrics_names[num]+': '+str(results[num]))\n",
    "\n",
    "predicted_prob = model.predict(x_train_reshaped)\n",
    "predicted = np.argmax(predicted_prob,axis = 1)\n",
    "\n",
    "confusion = sklearn.metrics.confusion_matrix(y_true=y_train, y_pred=predicted)\n",
    "print(confusion)\n",
    "tn, fp, fn, tp = confusion.ravel()\n",
    "print('\\nTP:',tp)\n",
    "print('FP:',fp)\n",
    "print('TN:',tn)\n",
    "print('FN:',fn)\n",
    "\n",
    "## Performance measure\n",
    "print('\\nAccuracy: '+ str(sklearn.metrics.accuracy_score(y_true=y_train, y_pred=predicted)))\n",
    "print('Precision: '+ str(sklearn.metrics.precision_score(y_true=y_train, y_pred=predicted)))\n",
    "print('Recall: '+ str(sklearn.metrics.recall_score(y_true=y_train, y_pred=predicted)))\n",
    "print('F-measure: '+ str(sklearn.metrics.f1_score(y_true=y_train, y_pred=predicted)))\n",
    "print(\"False Positive Rate:\" + str(fp/(tn+fp)))\n",
    "print('AUC: '+ str(sklearn.metrics.roc_auc_score(y_true=y_train, y_score=np.argmax(predicted_prob,axis = 1))))\n",
    "print('Precision-Recall AUC: '+ str(sklearn.metrics.average_precision_score(y_true=y_train, y_score=np.argmax(predicted_prob,axis = 1))))\n",
    "print('MCC: '+ str(sklearn.metrics.matthews_corrcoef(y_true=y_train, y_pred=predicted)))"
   ]
  },
  {
   "cell_type": "code",
   "execution_count": null,
   "metadata": {
    "colab": {
     "base_uri": "https://localhost:8080/",
     "height": 372
    },
    "colab_type": "code",
    "id": "glvnp1UMDwzn",
    "outputId": "1b9e5256-16e1-4aa6-aab2-dab922ba5471"
   },
   "outputs": [],
   "source": [
    "print(\"TEST\")\n",
    "\n",
    "results = model.evaluate(x_test_reshaped, y_test_reshaped, batch_size=BATCH_SIZE)\n",
    "\n",
    "for num in range(0,len(model.metrics_names)):\n",
    "    print(model.metrics_names[num]+': '+str(results[num]))\n",
    "\n",
    "predicted_prob = model.predict(x_test_reshaped)\n",
    "predicted = np.argmax(predicted_prob,axis = 1)\n",
    "\n",
    "# predicted = model.predict_classes(x_test_reshaped)\n",
    "# predicted_prob = model.predict(x_test_reshaped)\n",
    "\n",
    "confusion = sklearn.metrics.confusion_matrix(y_true=y_test, y_pred=predicted)\n",
    "print(confusion)\n",
    "tn, fp, fn, tp = confusion.ravel()\n",
    "print('\\nTP:',tp)\n",
    "print('FP:',fp)\n",
    "print('TN:',tn)\n",
    "print('FN:',fn)\n",
    "\n",
    "## Performance measure\n",
    "print('\\nAccuracy: '+ str(sklearn.metrics.accuracy_score(y_true=y_test, y_pred=predicted)))\n",
    "print('Precision: '+ str(sklearn.metrics.precision_score(y_true=y_test, y_pred=predicted)))\n",
    "print('Recall: '+ str(sklearn.metrics.recall_score(y_true=y_test, y_pred=predicted)))\n",
    "print('F-measure: '+ str(sklearn.metrics.f1_score(y_true=y_test, y_pred=predicted)))\n",
    "print(\"False Positive Rate:\" + str(fp/(tn+fp)))\n",
    "print('AUC: '+ str(sklearn.metrics.roc_auc_score(y_true=y_test, y_score=np.argmax(predicted_prob,axis = 1))))\n",
    "print('Precision-Recall AUC: '+ str(sklearn.metrics.average_precision_score(y_true=y_test, y_score=np.argmax(predicted_prob,axis = 1))))\n",
    "print('MCC: '+ str(sklearn.metrics.matthews_corrcoef(y_true=y_test, y_pred=predicted)))"
   ]
  },
  {
   "cell_type": "markdown",
   "metadata": {
    "colab_type": "text",
    "id": "mWpARYh0F60E"
   },
   "source": [
    "# SVM"
   ]
  },
  {
   "cell_type": "code",
   "execution_count": null,
   "metadata": {
    "colab": {
     "base_uri": "https://localhost:8080/",
     "height": 105
    },
    "colab_type": "code",
    "id": "9UAOBcVSeJfv",
    "outputId": "38f74b71-58b6-4e5a-98de-8b4946343ef5"
   },
   "outputs": [],
   "source": [
    "from sklearn.svm import SVC\n",
    "\n",
    "# SVM\n",
    "print(\"SVM (kernel = linear)\")\n",
    "support_vector_classifier = SVC(kernel='linear', probability=True)\n",
    "support_vector_classifier.fit(x_train, y_train)"
   ]
  },
  {
   "cell_type": "code",
   "execution_count": null,
   "metadata": {
    "colab": {
     "base_uri": "https://localhost:8080/",
     "height": 318
    },
    "colab_type": "code",
    "id": "dm8rVKZWeLH0",
    "outputId": "5fdeb351-816e-4b74-f440-2a5654a1c8db"
   },
   "outputs": [],
   "source": [
    "print(\"TRAIN\")\n",
    "predicted_svm = support_vector_classifier.predict(x_train)\n",
    "predicted_prob_svm = support_vector_classifier.predict_proba(x_train)\n",
    "\n",
    "confusion = sklearn.metrics.confusion_matrix(y_true=y_train, y_pred=predicted_svm)\n",
    "print(confusion)\n",
    "tn, fp, fn, tp = confusion.ravel()\n",
    "print('\\nTP:',tp)\n",
    "print('FP:',fp)\n",
    "print('TN:',tn)\n",
    "print('FN:',fn)\n",
    "\n",
    "## Performance measure\n",
    "print('\\nAccuracy: '+ str(sklearn.metrics.accuracy_score(y_true=y_train, y_pred=predicted_svm)))\n",
    "print('Precision: '+ str(sklearn.metrics.precision_score(y_true=y_train, y_pred=predicted_svm)))\n",
    "print('Recall: '+ str(sklearn.metrics.recall_score(y_true=y_train, y_pred=predicted_svm)))\n",
    "print('F-measure: '+ str(sklearn.metrics.f1_score(y_true=y_train, y_pred=predicted_svm)))\n",
    "print(\"False Positive Rate:\" + str(fp/(tn+fp)))\n",
    "print('AUC: '+ str(sklearn.metrics.roc_auc_score(y_true=y_train, y_score=np.argmax(predicted_prob_svm,axis = 1))))\n",
    "print('Precision-Recall AUC: '+ str(sklearn.metrics.average_precision_score(y_true=y_train, y_score=np.argmax(predicted_prob_svm,axis = 1))))\n",
    "print('MCC: '+ str(sklearn.metrics.matthews_corrcoef(y_true=y_train, y_pred=predicted_svm)))"
   ]
  },
  {
   "cell_type": "code",
   "execution_count": null,
   "metadata": {
    "colab": {
     "base_uri": "https://localhost:8080/",
     "height": 318
    },
    "colab_type": "code",
    "id": "as4GgGU_pRoN",
    "outputId": "80fe5692-7e94-49df-f9cc-f906cc438ab6"
   },
   "outputs": [],
   "source": [
    "print(\"TEST\")\n",
    "\n",
    "predicted_svm = support_vector_classifier.predict(x_test)\n",
    "predicted_prob_svm = support_vector_classifier.predict_proba(x_test)\n",
    "\n",
    "confusion = sklearn.metrics.confusion_matrix(y_true=y_test, y_pred=predicted_svm)\n",
    "print(confusion)\n",
    "tn, fp, fn, tp = confusion.ravel()\n",
    "print('\\nTP:',tp)\n",
    "print('FP:',fp)\n",
    "print('TN:',tn)\n",
    "print('FN:',fn)\n",
    "\n",
    "## Performance measure\n",
    "print('\\nAccuracy: '+ str(sklearn.metrics.accuracy_score(y_true=y_test, y_pred=predicted_svm)))\n",
    "print('Precision: '+ str(sklearn.metrics.precision_score(y_true=y_test, y_pred=predicted_svm)))\n",
    "print('Recall: '+ str(sklearn.metrics.recall_score(y_true=y_test, y_pred=predicted_svm)))\n",
    "print('F-measure: '+ str(sklearn.metrics.f1_score(y_true=y_test, y_pred=predicted_svm)))\n",
    "print(\"False Positive Rate:\" + str(fp/(tn+fp)))\n",
    "print('AUC: '+ str(sklearn.metrics.roc_auc_score(y_true=y_test, y_score=np.argmax(predicted_prob_svm,axis = 1))))\n",
    "print('Precision-Recall AUC: '+ str(sklearn.metrics.average_precision_score(y_true=y_test, y_score=np.argmax(predicted_prob_svm,axis = 1))))\n",
    "print('MCC: '+ str(sklearn.metrics.matthews_corrcoef(y_true=y_test, y_pred=predicted_svm)))"
   ]
  },
  {
   "cell_type": "code",
   "execution_count": null,
   "metadata": {
    "colab": {
     "base_uri": "https://localhost:8080/",
     "height": 294
    },
    "colab_type": "code",
    "id": "hobCjX93oBox",
    "outputId": "6803c2aa-485c-4c98-a7b2-970c145c5133"
   },
   "outputs": [],
   "source": [
    "fpr_svm, tpr_svm, _ = sklearn.metrics.roc_curve(y_test, predicted_prob_svm[:, 1])\n",
    "roc_auc_svm = sklearn.metrics.auc(fpr_svm, tpr_svm)\n",
    "\n",
    "fpr_rf, tpr_rf, _ = sklearn.metrics.roc_curve(y_test, predicted_prob_rf[:, 1])\n",
    "roc_auc_rf = sklearn.metrics.auc(fpr_rf, tpr_rf)\n",
    "\n",
    "plt.figure()\n",
    "plt.plot(fpr_svm, tpr_svm, color='darkorange',\n",
    "         lw=2, label='Randomforest (area = %0.2f)' % roc_auc_svm)\n",
    "plt.plot(fpr_rf, tpr_rf, color='darkgreen',\n",
    "         lw=2, label='svm(area = %0.2f)' % roc_auc_rf)\n",
    "plt.plot([0, 1], [0, 1], color='navy', lw=2, linestyle='--')\n",
    "plt.xlim([0.0, 1.0])\n",
    "plt.ylim([0.0, 1.05])\n",
    "plt.xlabel('False Positive Rate')\n",
    "plt.ylabel('True Positive Rate')\n",
    "plt.title('ROC Curve')\n",
    "plt.legend(loc=\"lower right\")\n",
    "plt.show()"
   ]
  },
  {
   "cell_type": "markdown",
   "metadata": {
    "colab_type": "text",
    "id": "yw2IoruPj6Tz"
   },
   "source": [
    "# Summary"
   ]
  },
  {
   "cell_type": "code",
   "execution_count": null,
   "metadata": {
    "colab": {
     "base_uri": "https://localhost:8080/",
     "height": 621
    },
    "colab_type": "code",
    "id": "LzEcOih6OVk3",
    "outputId": "d8cf36d6-9dbc-427c-dad1-d48d1a08901a"
   },
   "outputs": [],
   "source": [
    "# Random Forest\n",
    "print(\"RANDOM FOREST\")\n",
    "print('\\nAccuracy: '+ str(sklearn.metrics.accuracy_score(y_true=y_test, y_pred=predicted_rf)))\n",
    "print('Precision: '+ str(sklearn.metrics.precision_score(y_true=y_test, y_pred=predicted_rf)))\n",
    "print('Recall: '+ str(sklearn.metrics.recall_score(y_true=y_test, y_pred=predicted_rf)))\n",
    "print('F-measure: '+ str(sklearn.metrics.f1_score(y_true=y_test, y_pred=predicted_rf)))\n",
    "confusion = sklearn.metrics.confusion_matrix(y_true=y_test, y_pred=predicted_rf)\n",
    "tn, fp, fn, tp = confusion.ravel()\n",
    "print(\"False Positive Rate:\" + str(fp/(tn+fp)))\n",
    "print('AUC: '+ str(sklearn.metrics.roc_auc_score(y_true=y_test, y_score=np.argmax(predicted_prob_rf,axis = 1))))\n",
    "print('Precision-Recall AUC: '+ str(sklearn.metrics.average_precision_score(y_true=y_test, y_score=np.argmax(predicted_prob_rf,axis = 1))))\n",
    "print('MCC: '+ str(sklearn.metrics.matthews_corrcoef(y_true=y_test, y_pred=predicted_rf)))\n",
    "print(\"\\n\")\n",
    "\n",
    "## SVM\n",
    "print(\"SVM\")\n",
    "print('\\nAccuracy: '+ str(sklearn.metrics.accuracy_score(y_true=y_test, y_pred=predicted_svm)))\n",
    "print('Precision: '+ str(sklearn.metrics.precision_score(y_true=y_test, y_pred=predicted_svm)))\n",
    "print('Recall: '+ str(sklearn.metrics.recall_score(y_true=y_test, y_pred=predicted_svm)))\n",
    "print('F-measure: '+ str(sklearn.metrics.f1_score(y_true=y_test, y_pred=predicted_svm)))\n",
    "confusion = sklearn.metrics.confusion_matrix(y_true=y_test, y_pred=predicted_svm)\n",
    "tn, fp, fn, tp = confusion.ravel()\n",
    "print(\"False Positive Rate:\" + str(fp/(tn+fp)))\n",
    "print('AUC: '+ str(sklearn.metrics.roc_auc_score(y_true=y_test, y_score=np.argmax(predicted_prob_svm,axis = 1))))\n",
    "print('Precision-Recall AUC: '+ str(sklearn.metrics.average_precision_score(y_true=y_test, y_score=np.argmax(predicted_prob_svm,axis = 1))))\n",
    "print('MCC: '+ str(sklearn.metrics.matthews_corrcoef(y_true=y_test, y_pred=predicted_svm)))\n",
    "print(\"\\n\")\n",
    "\n",
    "#Resnet\n",
    "print(\"RESNET\")\n",
    "print('\\nAccuracy: '+ str(sklearn.metrics.accuracy_score(y_true=y_test, y_pred=predicted)))\n",
    "print('Precision: '+ str(sklearn.metrics.precision_score(y_true=y_test, y_pred=predicted)))\n",
    "print('Recall: '+ str(sklearn.metrics.recall_score(y_true=y_test, y_pred=predicted)))\n",
    "print('F-measure: '+ str(sklearn.metrics.f1_score(y_true=y_test, y_pred=predicted)))\n",
    "confusion = sklearn.metrics.confusion_matrix(y_true=y_test, y_pred=predicted)\n",
    "tn, fp, fn, tp = confusion.ravel()\n",
    "print(\"False Positive Rate:\" + str(fp/(tn+fp)))\n",
    "print('AUC: '+ str(sklearn.metrics.roc_auc_score(y_true=y_test, y_score=np.argmax(predicted_prob,axis = 1))))\n",
    "print('Precision-Recall AUC: '+ str(sklearn.metrics.average_precision_score(y_true=y_test, y_score=np.argmax(predicted_prob,axis = 1))))\n",
    "print('MCC: '+ str(sklearn.metrics.matthews_corrcoef(y_true=y_test, y_pred=predicted)))"
   ]
  }
 ],
 "metadata": {
  "colab": {
   "authorship_tag": "ABX9TyO5Rg1PnQR9GWFp6cvv4qwK",
   "name": "bow.ipynb",
   "provenance": []
  },
  "kernelspec": {
   "display_name": "Python 3",
   "language": "python",
   "name": "python3"
  },
  "language_info": {
   "codemirror_mode": {
    "name": "ipython",
    "version": 3
   },
   "file_extension": ".py",
   "mimetype": "text/x-python",
   "name": "python",
   "nbconvert_exporter": "python",
   "pygments_lexer": "ipython3",
   "version": "3.6.9"
  }
 },
 "nbformat": 4,
 "nbformat_minor": 1
}
